{
 "cells": [
  {
   "cell_type": "code",
   "execution_count": 1,
   "metadata": {},
   "outputs": [],
   "source": [
    "import pandas as pd\n",
    "import numpy as np\n",
    "import pymongo\n",
    "from pymongo import MongoClient\n",
    "import matplotlib.pyplot as plt"
   ]
  },
  {
   "cell_type": "markdown",
   "metadata": {},
   "source": [
    "## Load in data"
   ]
  },
  {
   "cell_type": "markdown",
   "metadata": {},
   "source": [
    "#### Get data from user selection"
   ]
  },
  {
   "cell_type": "code",
   "execution_count": 2,
   "metadata": {},
   "outputs": [],
   "source": [
    "#For now just use the exported csv\n",
    "user_df = pd.read_csv('newway_data.csv')"
   ]
  },
  {
   "cell_type": "code",
   "execution_count": 3,
   "metadata": {},
   "outputs": [],
   "source": [
    "user_df = user_df.drop(columns = ['uri', 'duration_ms'])"
   ]
  },
  {
   "cell_type": "code",
   "execution_count": 4,
   "metadata": {},
   "outputs": [
    {
     "data": {
      "text/html": [
       "<div>\n",
       "<style scoped>\n",
       "    .dataframe tbody tr th:only-of-type {\n",
       "        vertical-align: middle;\n",
       "    }\n",
       "\n",
       "    .dataframe tbody tr th {\n",
       "        vertical-align: top;\n",
       "    }\n",
       "\n",
       "    .dataframe thead th {\n",
       "        text-align: right;\n",
       "    }\n",
       "</style>\n",
       "<table border=\"1\" class=\"dataframe\">\n",
       "  <thead>\n",
       "    <tr style=\"text-align: right;\">\n",
       "      <th></th>\n",
       "      <th>danceability</th>\n",
       "      <th>energy</th>\n",
       "      <th>key</th>\n",
       "      <th>loudness</th>\n",
       "      <th>mode</th>\n",
       "      <th>speechiness</th>\n",
       "      <th>acousticness</th>\n",
       "      <th>instrumentalness</th>\n",
       "      <th>liveness</th>\n",
       "      <th>valence</th>\n",
       "      <th>tempo</th>\n",
       "    </tr>\n",
       "  </thead>\n",
       "  <tbody>\n",
       "    <tr>\n",
       "      <th>0</th>\n",
       "      <td>0.624</td>\n",
       "      <td>0.886</td>\n",
       "      <td>4</td>\n",
       "      <td>-6.046</td>\n",
       "      <td>1</td>\n",
       "      <td>0.0351</td>\n",
       "      <td>0.1000</td>\n",
       "      <td>0.941000</td>\n",
       "      <td>0.0943</td>\n",
       "      <td>0.772</td>\n",
       "      <td>155.249</td>\n",
       "    </tr>\n",
       "    <tr>\n",
       "      <th>1</th>\n",
       "      <td>0.623</td>\n",
       "      <td>0.766</td>\n",
       "      <td>4</td>\n",
       "      <td>-7.445</td>\n",
       "      <td>1</td>\n",
       "      <td>0.0531</td>\n",
       "      <td>0.1030</td>\n",
       "      <td>0.019300</td>\n",
       "      <td>0.1580</td>\n",
       "      <td>0.550</td>\n",
       "      <td>153.150</td>\n",
       "    </tr>\n",
       "    <tr>\n",
       "      <th>2</th>\n",
       "      <td>0.475</td>\n",
       "      <td>0.624</td>\n",
       "      <td>11</td>\n",
       "      <td>-8.698</td>\n",
       "      <td>0</td>\n",
       "      <td>0.0291</td>\n",
       "      <td>0.0258</td>\n",
       "      <td>0.000229</td>\n",
       "      <td>0.1810</td>\n",
       "      <td>0.779</td>\n",
       "      <td>173.078</td>\n",
       "    </tr>\n",
       "    <tr>\n",
       "      <th>3</th>\n",
       "      <td>0.646</td>\n",
       "      <td>0.611</td>\n",
       "      <td>0</td>\n",
       "      <td>-6.516</td>\n",
       "      <td>1</td>\n",
       "      <td>0.0272</td>\n",
       "      <td>0.1710</td>\n",
       "      <td>0.000000</td>\n",
       "      <td>0.0634</td>\n",
       "      <td>0.272</td>\n",
       "      <td>109.051</td>\n",
       "    </tr>\n",
       "    <tr>\n",
       "      <th>4</th>\n",
       "      <td>0.543</td>\n",
       "      <td>0.526</td>\n",
       "      <td>2</td>\n",
       "      <td>-9.703</td>\n",
       "      <td>1</td>\n",
       "      <td>0.0582</td>\n",
       "      <td>0.0447</td>\n",
       "      <td>0.053300</td>\n",
       "      <td>0.0778</td>\n",
       "      <td>0.384</td>\n",
       "      <td>153.000</td>\n",
       "    </tr>\n",
       "  </tbody>\n",
       "</table>\n",
       "</div>"
      ],
      "text/plain": [
       "   danceability  energy  key  loudness  mode  speechiness  acousticness  \\\n",
       "0         0.624   0.886    4    -6.046     1       0.0351        0.1000   \n",
       "1         0.623   0.766    4    -7.445     1       0.0531        0.1030   \n",
       "2         0.475   0.624   11    -8.698     0       0.0291        0.0258   \n",
       "3         0.646   0.611    0    -6.516     1       0.0272        0.1710   \n",
       "4         0.543   0.526    2    -9.703     1       0.0582        0.0447   \n",
       "\n",
       "   instrumentalness  liveness  valence    tempo  \n",
       "0          0.941000    0.0943    0.772  155.249  \n",
       "1          0.019300    0.1580    0.550  153.150  \n",
       "2          0.000229    0.1810    0.779  173.078  \n",
       "3          0.000000    0.0634    0.272  109.051  \n",
       "4          0.053300    0.0778    0.384  153.000  "
      ]
     },
     "execution_count": 4,
     "metadata": {},
     "output_type": "execute_result"
    }
   ],
   "source": [
    "user_df.head()"
   ]
  },
  {
   "cell_type": "code",
   "execution_count": 5,
   "metadata": {},
   "outputs": [],
   "source": [
    "user_sub = user_df[['energy', 'liveness', 'danceability', 'key', 'mode', 'speechiness', \n",
    "                    'loudness', 'acousticness', 'instrumentalness', 'valence', 'tempo']]"
   ]
  },
  {
   "cell_type": "code",
   "execution_count": 6,
   "metadata": {},
   "outputs": [],
   "source": [
    "vibe_np = user_sub.agg('mean').to_numpy()\n",
    "vibe = user_sub.agg('mean').to_frame()"
   ]
  },
  {
   "cell_type": "code",
   "execution_count": 7,
   "metadata": {},
   "outputs": [
    {
     "data": {
      "text/html": [
       "<div>\n",
       "<style scoped>\n",
       "    .dataframe tbody tr th:only-of-type {\n",
       "        vertical-align: middle;\n",
       "    }\n",
       "\n",
       "    .dataframe tbody tr th {\n",
       "        vertical-align: top;\n",
       "    }\n",
       "\n",
       "    .dataframe thead th {\n",
       "        text-align: right;\n",
       "    }\n",
       "</style>\n",
       "<table border=\"1\" class=\"dataframe\">\n",
       "  <thead>\n",
       "    <tr style=\"text-align: right;\">\n",
       "      <th></th>\n",
       "      <th>0</th>\n",
       "    </tr>\n",
       "  </thead>\n",
       "  <tbody>\n",
       "    <tr>\n",
       "      <th>energy</th>\n",
       "      <td>0.677938</td>\n",
       "    </tr>\n",
       "    <tr>\n",
       "      <th>liveness</th>\n",
       "      <td>0.213422</td>\n",
       "    </tr>\n",
       "    <tr>\n",
       "      <th>danceability</th>\n",
       "      <td>0.581875</td>\n",
       "    </tr>\n",
       "    <tr>\n",
       "      <th>key</th>\n",
       "      <td>5.187500</td>\n",
       "    </tr>\n",
       "    <tr>\n",
       "      <th>mode</th>\n",
       "      <td>0.562500</td>\n",
       "    </tr>\n",
       "    <tr>\n",
       "      <th>speechiness</th>\n",
       "      <td>0.052166</td>\n",
       "    </tr>\n",
       "    <tr>\n",
       "      <th>loudness</th>\n",
       "      <td>-7.249156</td>\n",
       "    </tr>\n",
       "    <tr>\n",
       "      <th>acousticness</th>\n",
       "      <td>0.172883</td>\n",
       "    </tr>\n",
       "    <tr>\n",
       "      <th>instrumentalness</th>\n",
       "      <td>0.136619</td>\n",
       "    </tr>\n",
       "    <tr>\n",
       "      <th>valence</th>\n",
       "      <td>0.591938</td>\n",
       "    </tr>\n",
       "    <tr>\n",
       "      <th>tempo</th>\n",
       "      <td>118.406625</td>\n",
       "    </tr>\n",
       "  </tbody>\n",
       "</table>\n",
       "</div>"
      ],
      "text/plain": [
       "                           0\n",
       "energy              0.677938\n",
       "liveness            0.213422\n",
       "danceability        0.581875\n",
       "key                 5.187500\n",
       "mode                0.562500\n",
       "speechiness         0.052166\n",
       "loudness           -7.249156\n",
       "acousticness        0.172883\n",
       "instrumentalness    0.136619\n",
       "valence             0.591938\n",
       "tempo             118.406625"
      ]
     },
     "execution_count": 7,
     "metadata": {},
     "output_type": "execute_result"
    }
   ],
   "source": [
    "vibe"
   ]
  },
  {
   "cell_type": "markdown",
   "metadata": {},
   "source": [
    "#### Get Reddit data from MongoDB"
   ]
  },
  {
   "cell_type": "code",
   "execution_count": 8,
   "metadata": {},
   "outputs": [],
   "source": [
    "with open('db_pass.txt', 'r') as f:\n",
    "    db_pass = f.read()"
   ]
  },
  {
   "cell_type": "code",
   "execution_count": 9,
   "metadata": {},
   "outputs": [],
   "source": [
    "client = pymongo.MongoClient()"
   ]
  },
  {
   "cell_type": "code",
   "execution_count": 10,
   "metadata": {},
   "outputs": [],
   "source": [
    "#Specify database and collection\n",
    "db = client['RedditCollect']\n",
    "collection = db['indieheads']"
   ]
  },
  {
   "cell_type": "code",
   "execution_count": 11,
   "metadata": {},
   "outputs": [
    {
     "data": {
      "text/plain": [
       "['indieheads', 'Alternativerock']"
      ]
     },
     "execution_count": 11,
     "metadata": {},
     "output_type": "execute_result"
    }
   ],
   "source": [
    "db.list_collection_names()"
   ]
  },
  {
   "cell_type": "code",
   "execution_count": 12,
   "metadata": {},
   "outputs": [],
   "source": [
    "cursor = collection.find({})\n",
    "reddit_df = pd.DataFrame(list(cursor))"
   ]
  },
  {
   "cell_type": "raw",
   "metadata": {},
   "source": [
    "What Features are categorized as\n",
    "------------------------------------------------------\n",
    "Mood: Danceability, Valence, Energy, Tempo\n",
    "Properties: Loudness, Speechiness, Instrumentalness\n",
    "Context: Liveness, Acousticness"
   ]
  },
  {
   "cell_type": "code",
   "execution_count": 15,
   "metadata": {},
   "outputs": [],
   "source": [
    "#Select track features of interest\n",
    "#First try the feature in each category with the highest variation\n",
    "reddit_features = reddit_df[['energy', 'danceability', 'key', 'speechiness', \n",
    "                             'acousticness', 'instrumentalness', 'valence', 'tempo']]\n",
    "\n",
    "#Drop features the may not be important\n",
    "# 'danceability', 'energy', 'key', 'mode', 'speechiness', 'loudness'\n",
    "# 'acousticness', 'instrumentalness', 'liveness', 'valence', 'tempo'\n"
   ]
  },
  {
   "cell_type": "code",
   "execution_count": null,
   "metadata": {},
   "outputs": [],
   "source": [
    "plt.scatter(reddit_features.energy, reddit_features.loudness, c=reddit_features.liveness, alpha = 0.6, s=10)"
   ]
  },
  {
   "cell_type": "markdown",
   "metadata": {},
   "source": [
    "## Preprocessing"
   ]
  },
  {
   "cell_type": "code",
   "execution_count": 16,
   "metadata": {},
   "outputs": [],
   "source": [
    "from sklearn.preprocessing import StandardScaler"
   ]
  },
  {
   "cell_type": "code",
   "execution_count": null,
   "metadata": {},
   "outputs": [],
   "source": [
    "scale_cols = list(reddit_features.columns)\n",
    "\n",
    "#create and fit scaler\n",
    "scaler = StandardScaler()\n",
    "scaler.fit(reddit_features[scale_cols])\n",
    "\n",
    "#scale selected data\n",
    "reddit_features[scale_cols] = scaler.transform(reddit_features[scale_cols])\n"
   ]
  },
  {
   "cell_type": "code",
   "execution_count": 18,
   "metadata": {},
   "outputs": [
    {
     "data": {
      "text/html": [
       "<div>\n",
       "<style scoped>\n",
       "    .dataframe tbody tr th:only-of-type {\n",
       "        vertical-align: middle;\n",
       "    }\n",
       "\n",
       "    .dataframe tbody tr th {\n",
       "        vertical-align: top;\n",
       "    }\n",
       "\n",
       "    .dataframe thead th {\n",
       "        text-align: right;\n",
       "    }\n",
       "</style>\n",
       "<table border=\"1\" class=\"dataframe\">\n",
       "  <thead>\n",
       "    <tr style=\"text-align: right;\">\n",
       "      <th></th>\n",
       "      <th>energy</th>\n",
       "      <th>loudness</th>\n",
       "      <th>liveness</th>\n",
       "    </tr>\n",
       "  </thead>\n",
       "  <tbody>\n",
       "    <tr>\n",
       "      <th>0</th>\n",
       "      <td>0.230686</td>\n",
       "      <td>-0.211590</td>\n",
       "      <td>-0.136565</td>\n",
       "    </tr>\n",
       "    <tr>\n",
       "      <th>1</th>\n",
       "      <td>-0.509523</td>\n",
       "      <td>0.851861</td>\n",
       "      <td>-0.681291</td>\n",
       "    </tr>\n",
       "    <tr>\n",
       "      <th>2</th>\n",
       "      <td>-2.083638</td>\n",
       "      <td>-1.954533</td>\n",
       "      <td>-0.563376</td>\n",
       "    </tr>\n",
       "    <tr>\n",
       "      <th>3</th>\n",
       "      <td>-1.427757</td>\n",
       "      <td>-1.574393</td>\n",
       "      <td>-0.541674</td>\n",
       "    </tr>\n",
       "    <tr>\n",
       "      <th>4</th>\n",
       "      <td>0.272850</td>\n",
       "      <td>0.886232</td>\n",
       "      <td>-0.577844</td>\n",
       "    </tr>\n",
       "  </tbody>\n",
       "</table>\n",
       "</div>"
      ],
      "text/plain": [
       "     energy  loudness  liveness\n",
       "0  0.230686 -0.211590 -0.136565\n",
       "1 -0.509523  0.851861 -0.681291\n",
       "2 -2.083638 -1.954533 -0.563376\n",
       "3 -1.427757 -1.574393 -0.541674\n",
       "4  0.272850  0.886232 -0.577844"
      ]
     },
     "execution_count": 18,
     "metadata": {},
     "output_type": "execute_result"
    }
   ],
   "source": [
    "reddit_features.head()"
   ]
  },
  {
   "cell_type": "markdown",
   "metadata": {},
   "source": [
    "## Model Building"
   ]
  },
  {
   "cell_type": "markdown",
   "metadata": {},
   "source": [
    "#### K-Means"
   ]
  },
  {
   "cell_type": "code",
   "execution_count": 19,
   "metadata": {},
   "outputs": [],
   "source": [
    "from sklearn.cluster import KMeans"
   ]
  },
  {
   "cell_type": "code",
   "execution_count": 20,
   "metadata": {},
   "outputs": [],
   "source": [
    "X = reddit_features.copy()"
   ]
  },
  {
   "cell_type": "code",
   "execution_count": null,
   "metadata": {
    "collapsed": true,
    "jupyter": {
     "outputs_hidden": true
    }
   },
   "outputs": [],
   "source": [
    "X.to_numpy()"
   ]
  },
  {
   "cell_type": "code",
   "execution_count": 289,
   "metadata": {},
   "outputs": [],
   "source": [
    "k = 15\n",
    "kmeans = KMeans(n_clusters = k, init = 'random', random_state = 1)\n",
    "y_pred = kmeans.fit(X)"
   ]
  },
  {
   "cell_type": "code",
   "execution_count": 22,
   "metadata": {},
   "outputs": [
    {
     "data": {
      "image/png": "[encoded data removed]",
      "text/plain": [
       "<Figure size 432x288 with 1 Axes>"
      ]
     },
     "metadata": {
      "needs_background": "light"
     },
     "output_type": "display_data"
    }
   ],
   "source": [
    "#Use elbow method to determine optimal clusters\n",
    "distort = []\n",
    "max_cluster = 12\n",
    "for i in range(1, max_cluster):\n",
    "    km = KMeans(n_clusters=i, init='random', random_state=42)\n",
    "    km.fit_predict(X)\n",
    "    distort.append(km.inertia_)\n",
    "\n",
    "# plot\n",
    "plt.plot(range(1, max_cluster), distort, marker='o')\n",
    "plt.xlabel('Number of clusters')\n",
    "plt.ylabel('Distortion')\n",
    "plt.show()"
   ]
  },
  {
   "cell_type": "code",
   "execution_count": 290,
   "metadata": {},
   "outputs": [],
   "source": [
    "reddit_df['cluster'] = list(y_pred.labels_)"
   ]
  },
  {
   "cell_type": "code",
   "execution_count": 291,
   "metadata": {},
   "outputs": [
    {
     "data": {
      "text/plain": [
       "array([[ 0.6779375 , -7.24915625,  0.21342188]])"
      ]
     },
     "execution_count": 291,
     "metadata": {},
     "output_type": "execute_result"
    }
   ],
   "source": [
    "np.array([vibe])"
   ]
  },
  {
   "cell_type": "code",
   "execution_count": 292,
   "metadata": {},
   "outputs": [
    {
     "data": {
      "text/plain": [
       "array([0], dtype=int32)"
      ]
     },
     "execution_count": 292,
     "metadata": {},
     "output_type": "execute_result"
    }
   ],
   "source": [
    "user_cluster = kmeans.predict(np.array([vibe]))\n",
    "user_cluster"
   ]
  },
  {
   "cell_type": "code",
   "execution_count": 293,
   "metadata": {},
   "outputs": [
    {
     "data": {
      "text/plain": [
       "0     34\n",
       "7     32\n",
       "12    24\n",
       "2     24\n",
       "1     23\n",
       "10    23\n",
       "3     19\n",
       "4     17\n",
       "6     16\n",
       "5     14\n",
       "13    13\n",
       "11     7\n",
       "9      7\n",
       "14     4\n",
       "8      3\n",
       "Name: cluster, dtype: int64"
      ]
     },
     "execution_count": 293,
     "metadata": {},
     "output_type": "execute_result"
    }
   ],
   "source": [
    "reddit_df['cluster'].value_counts()"
   ]
  },
  {
   "cell_type": "code",
   "execution_count": null,
   "metadata": {
    "collapsed": true,
    "jupyter": {
     "outputs_hidden": true
    }
   },
   "outputs": [],
   "source": [
    "suggested = reddit_df[reddit_df['cluster'] == 0]\n",
    "top_suggested = suggested.sort_values(by = 'upvotes', ascending = False)\n",
    "top_suggested.head(15)"
   ]
  },
  {
   "cell_type": "code",
   "execution_count": 300,
   "metadata": {},
   "outputs": [],
   "source": [
    "#Create a funciton to classify every song in the user playlist to a cluster\n",
    "def user_suggestion(user_df, fitted_metrics):\n",
    "    user_sub = user_df[fitted_metrics]\n",
    "    user_cluster = []\n",
    "    \n",
    "    for track in user_sub:\n",
    "        user_cluster.append(kmeans.predict(np.array(track)))\n",
    "        print(track)\n",
    "    \n",
    "    user_df['cluster'] = user_cluster\n",
    "                            \n",
    "    return user_df"
   ]
  },
  {
   "cell_type": "markdown",
   "metadata": {},
   "source": [
    "### Cosine Similarity "
   ]
  },
  {
   "cell_type": "raw",
   "metadata": {},
   "source": [
    "Cosine Similarity will allow us to find the best song for the individuals playlist"
   ]
  },
  {
   "cell_type": "code",
   "execution_count": 39,
   "metadata": {},
   "outputs": [],
   "source": [
    "from sklearn.metrics.pairwise import cosine_similarity"
   ]
  },
  {
   "cell_type": "code",
   "execution_count": 83,
   "metadata": {},
   "outputs": [],
   "source": [
    "test_song = np.array([[0.624, 0.886, 4, 6.046, 1, 0.0351, 0.1000, 0.941000, 0.0943, 0.772, 155.249]])"
   ]
  },
  {
   "cell_type": "code",
   "execution_count": 84,
   "metadata": {},
   "outputs": [
    {
     "data": {
      "text/plain": [
       "array([[6.24000e-01, 8.86000e-01, 4.00000e+00, 6.04600e+00, 1.00000e+00,\n",
       "        3.51000e-02, 1.00000e-01, 9.41000e-01, 9.43000e-02, 7.72000e-01,\n",
       "        1.55249e+02]])"
      ]
     },
     "execution_count": 84,
     "metadata": {},
     "output_type": "execute_result"
    }
   ],
   "source": [
    "test_song"
   ]
  },
  {
   "cell_type": "code",
   "execution_count": null,
   "metadata": {},
   "outputs": [],
   "source": []
  },
  {
   "cell_type": "code",
   "execution_count": 104,
   "metadata": {},
   "outputs": [],
   "source": [
    "reddit_array = reddit_features.to_numpy()\n",
    "cos_sim = []\n",
    "for track in reddit_array:\n",
    "    similarity = cosine_similarity(np.array([track]), vibe.T.to_numpy())\n",
    "    cos_sim.append(similarity)"
   ]
  },
  {
   "cell_type": "code",
   "execution_count": 108,
   "metadata": {},
   "outputs": [],
   "source": [
    "top_tracks_reddit = reddit_df.sort_values(by = 'cosine_sim', ascending = False)"
   ]
  },
  {
   "cell_type": "code",
   "execution_count": 110,
   "metadata": {},
   "outputs": [],
   "source": [
    "top_10 = top_tracks_reddit.head(10)"
   ]
  },
  {
   "cell_type": "code",
   "execution_count": 111,
   "metadata": {},
   "outputs": [
    {
     "data": {
      "text/html": [
       "<div>\n",
       "<style scoped>\n",
       "    .dataframe tbody tr th:only-of-type {\n",
       "        vertical-align: middle;\n",
       "    }\n",
       "\n",
       "    .dataframe tbody tr th {\n",
       "        vertical-align: top;\n",
       "    }\n",
       "\n",
       "    .dataframe thead th {\n",
       "        text-align: right;\n",
       "    }\n",
       "</style>\n",
       "<table border=\"1\" class=\"dataframe\">\n",
       "  <thead>\n",
       "    <tr style=\"text-align: right;\">\n",
       "      <th></th>\n",
       "      <th>_id</th>\n",
       "      <th>created</th>\n",
       "      <th>upvotes</th>\n",
       "      <th>url</th>\n",
       "      <th>subreddit</th>\n",
       "      <th>artist_all</th>\n",
       "      <th>track</th>\n",
       "      <th>danceability</th>\n",
       "      <th>energy</th>\n",
       "      <th>key</th>\n",
       "      <th>...</th>\n",
       "      <th>mode</th>\n",
       "      <th>speechiness</th>\n",
       "      <th>acousticness</th>\n",
       "      <th>instrumentalness</th>\n",
       "      <th>liveness</th>\n",
       "      <th>valence</th>\n",
       "      <th>tempo</th>\n",
       "      <th>uri</th>\n",
       "      <th>duration_ms</th>\n",
       "      <th>cosine_sim</th>\n",
       "    </tr>\n",
       "  </thead>\n",
       "  <tbody>\n",
       "    <tr>\n",
       "      <th>126</th>\n",
       "      <td>u49m9m</td>\n",
       "      <td>1.650034e+09</td>\n",
       "      <td>29</td>\n",
       "      <td>https://open.spotify.com/track/62lLZOUN0AmYBaw...</td>\n",
       "      <td>indieheads</td>\n",
       "      <td>Caamp</td>\n",
       "      <td>Apple Tree Blues</td>\n",
       "      <td>0.537</td>\n",
       "      <td>0.649</td>\n",
       "      <td>8</td>\n",
       "      <td>...</td>\n",
       "      <td>1</td>\n",
       "      <td>0.0308</td>\n",
       "      <td>0.51500</td>\n",
       "      <td>0.064100</td>\n",
       "      <td>0.119</td>\n",
       "      <td>0.737</td>\n",
       "      <td>173.027</td>\n",
       "      <td>spotify:track:62lLZOUN0AmYBaw6es63l5</td>\n",
       "      <td>212680</td>\n",
       "      <td>0.999989</td>\n",
       "    </tr>\n",
       "    <tr>\n",
       "      <th>7</th>\n",
       "      <td>ud1sr0</td>\n",
       "      <td>1.651061e+09</td>\n",
       "      <td>11</td>\n",
       "      <td>https://www.youtube.com/watch?v=sWrZOhYgZ7c</td>\n",
       "      <td>indieheads</td>\n",
       "      <td>Post Animal</td>\n",
       "      <td>Cancer Moon</td>\n",
       "      <td>0.554</td>\n",
       "      <td>0.665</td>\n",
       "      <td>5</td>\n",
       "      <td>...</td>\n",
       "      <td>1</td>\n",
       "      <td>0.0367</td>\n",
       "      <td>0.00236</td>\n",
       "      <td>0.000238</td>\n",
       "      <td>0.117</td>\n",
       "      <td>0.477</td>\n",
       "      <td>111.969</td>\n",
       "      <td>spotify:track:3f11SOnd3uSZjf8WbTk773</td>\n",
       "      <td>231268</td>\n",
       "      <td>0.999988</td>\n",
       "    </tr>\n",
       "    <tr>\n",
       "      <th>52</th>\n",
       "      <td>u8w23n</td>\n",
       "      <td>1.650571e+09</td>\n",
       "      <td>2</td>\n",
       "      <td>https://open.spotify.com/track/3Lz6teL5yOL4pp3...</td>\n",
       "      <td>indieheads</td>\n",
       "      <td>Sick Joy</td>\n",
       "      <td>talking to the drugs</td>\n",
       "      <td>0.603</td>\n",
       "      <td>0.793</td>\n",
       "      <td>6</td>\n",
       "      <td>...</td>\n",
       "      <td>1</td>\n",
       "      <td>0.0402</td>\n",
       "      <td>0.00912</td>\n",
       "      <td>0.088600</td>\n",
       "      <td>0.392</td>\n",
       "      <td>0.718</td>\n",
       "      <td>129.999</td>\n",
       "      <td>spotify:track:3Lz6teL5yOL4pp30hKj9LT</td>\n",
       "      <td>176799</td>\n",
       "      <td>0.999988</td>\n",
       "    </tr>\n",
       "    <tr>\n",
       "      <th>211</th>\n",
       "      <td>txvgl8</td>\n",
       "      <td>1.649277e+09</td>\n",
       "      <td>2</td>\n",
       "      <td>https://open.spotify.com/track/2S9ioeurLIMRV9X...</td>\n",
       "      <td>indieheads</td>\n",
       "      <td>Charlie Hickey</td>\n",
       "      <td>Dandelions</td>\n",
       "      <td>0.619</td>\n",
       "      <td>0.479</td>\n",
       "      <td>6</td>\n",
       "      <td>...</td>\n",
       "      <td>1</td>\n",
       "      <td>0.0369</td>\n",
       "      <td>0.71000</td>\n",
       "      <td>0.000125</td>\n",
       "      <td>0.171</td>\n",
       "      <td>0.627</td>\n",
       "      <td>128.071</td>\n",
       "      <td>spotify:track:2S9ioeurLIMRV9XIlsiBxS</td>\n",
       "      <td>218400</td>\n",
       "      <td>0.999978</td>\n",
       "    </tr>\n",
       "    <tr>\n",
       "      <th>37</th>\n",
       "      <td>uav6an</td>\n",
       "      <td>1.650808e+09</td>\n",
       "      <td>176</td>\n",
       "      <td>https://open.spotify.com/track/1gaByCFB1qArGJU...</td>\n",
       "      <td>indieheads</td>\n",
       "      <td>DJ Sabrina The Teenage DJ</td>\n",
       "      <td>Call You</td>\n",
       "      <td>0.575</td>\n",
       "      <td>0.796</td>\n",
       "      <td>6</td>\n",
       "      <td>...</td>\n",
       "      <td>1</td>\n",
       "      <td>0.1410</td>\n",
       "      <td>0.18400</td>\n",
       "      <td>0.000000</td>\n",
       "      <td>0.261</td>\n",
       "      <td>0.538</td>\n",
       "      <td>122.035</td>\n",
       "      <td>spotify:track:1gaByCFB1qArGJUIvgmolV</td>\n",
       "      <td>515410</td>\n",
       "      <td>0.999978</td>\n",
       "    </tr>\n",
       "  </tbody>\n",
       "</table>\n",
       "<p>5 rows × 21 columns</p>\n",
       "</div>"
      ],
      "text/plain": [
       "        _id       created  upvotes  \\\n",
       "126  u49m9m  1.650034e+09       29   \n",
       "7    ud1sr0  1.651061e+09       11   \n",
       "52   u8w23n  1.650571e+09        2   \n",
       "211  txvgl8  1.649277e+09        2   \n",
       "37   uav6an  1.650808e+09      176   \n",
       "\n",
       "                                                   url   subreddit  \\\n",
       "126  https://open.spotify.com/track/62lLZOUN0AmYBaw...  indieheads   \n",
       "7          https://www.youtube.com/watch?v=sWrZOhYgZ7c  indieheads   \n",
       "52   https://open.spotify.com/track/3Lz6teL5yOL4pp3...  indieheads   \n",
       "211  https://open.spotify.com/track/2S9ioeurLIMRV9X...  indieheads   \n",
       "37   https://open.spotify.com/track/1gaByCFB1qArGJU...  indieheads   \n",
       "\n",
       "                     artist_all                 track  danceability  energy  \\\n",
       "126                      Caamp       Apple Tree Blues         0.537   0.649   \n",
       "7                  Post Animal            Cancer Moon         0.554   0.665   \n",
       "52                    Sick Joy   talking to the drugs         0.603   0.793   \n",
       "211             Charlie Hickey             Dandelions         0.619   0.479   \n",
       "37   DJ Sabrina The Teenage DJ               Call You         0.575   0.796   \n",
       "\n",
       "     key  ...  mode  speechiness  acousticness  instrumentalness  liveness  \\\n",
       "126    8  ...     1       0.0308       0.51500          0.064100     0.119   \n",
       "7      5  ...     1       0.0367       0.00236          0.000238     0.117   \n",
       "52     6  ...     1       0.0402       0.00912          0.088600     0.392   \n",
       "211    6  ...     1       0.0369       0.71000          0.000125     0.171   \n",
       "37     6  ...     1       0.1410       0.18400          0.000000     0.261   \n",
       "\n",
       "     valence    tempo                                   uri duration_ms  \\\n",
       "126    0.737  173.027  spotify:track:62lLZOUN0AmYBaw6es63l5      212680   \n",
       "7      0.477  111.969  spotify:track:3f11SOnd3uSZjf8WbTk773      231268   \n",
       "52     0.718  129.999  spotify:track:3Lz6teL5yOL4pp30hKj9LT      176799   \n",
       "211    0.627  128.071  spotify:track:2S9ioeurLIMRV9XIlsiBxS      218400   \n",
       "37     0.538  122.035  spotify:track:1gaByCFB1qArGJUIvgmolV      515410   \n",
       "\n",
       "     cosine_sim  \n",
       "126    0.999989  \n",
       "7      0.999988  \n",
       "52     0.999988  \n",
       "211    0.999978  \n",
       "37     0.999978  \n",
       "\n",
       "[5 rows x 21 columns]"
      ]
     },
     "execution_count": 111,
     "metadata": {},
     "output_type": "execute_result"
    }
   ],
   "source": [
    "top_10.head()"
   ]
  },
  {
   "cell_type": "code",
   "execution_count": 120,
   "metadata": {},
   "outputs": [],
   "source": [
    "top_10 = top_10[['artist_all', 'track', 'upvotes']]\n",
    "top_10.rename(columns = {'artist_all': 'Artist(s)', 'track': 'Track', 'upvotes': 'Upvotes'}, inplace = True)\n",
    "top_10.reset_index(inplace = True, drop = True)"
   ]
  },
  {
   "cell_type": "code",
   "execution_count": 121,
   "metadata": {},
   "outputs": [
    {
     "data": {
      "text/html": [
       "<div>\n",
       "<style scoped>\n",
       "    .dataframe tbody tr th:only-of-type {\n",
       "        vertical-align: middle;\n",
       "    }\n",
       "\n",
       "    .dataframe tbody tr th {\n",
       "        vertical-align: top;\n",
       "    }\n",
       "\n",
       "    .dataframe thead th {\n",
       "        text-align: right;\n",
       "    }\n",
       "</style>\n",
       "<table border=\"1\" class=\"dataframe\">\n",
       "  <thead>\n",
       "    <tr style=\"text-align: right;\">\n",
       "      <th></th>\n",
       "      <th>Artist(s)</th>\n",
       "      <th>Track</th>\n",
       "      <th>Upvotes</th>\n",
       "    </tr>\n",
       "  </thead>\n",
       "  <tbody>\n",
       "    <tr>\n",
       "      <th>0</th>\n",
       "      <td>Caamp</td>\n",
       "      <td>Apple Tree Blues</td>\n",
       "      <td>29</td>\n",
       "    </tr>\n",
       "    <tr>\n",
       "      <th>1</th>\n",
       "      <td>Post Animal</td>\n",
       "      <td>Cancer Moon</td>\n",
       "      <td>11</td>\n",
       "    </tr>\n",
       "    <tr>\n",
       "      <th>2</th>\n",
       "      <td>Sick Joy</td>\n",
       "      <td>talking to the drugs</td>\n",
       "      <td>2</td>\n",
       "    </tr>\n",
       "    <tr>\n",
       "      <th>3</th>\n",
       "      <td>Charlie Hickey</td>\n",
       "      <td>Dandelions</td>\n",
       "      <td>2</td>\n",
       "    </tr>\n",
       "    <tr>\n",
       "      <th>4</th>\n",
       "      <td>DJ Sabrina The Teenage DJ</td>\n",
       "      <td>Call You</td>\n",
       "      <td>176</td>\n",
       "    </tr>\n",
       "    <tr>\n",
       "      <th>5</th>\n",
       "      <td>Pure Reason Revolution</td>\n",
       "      <td>Dead Butterfly</td>\n",
       "      <td>5</td>\n",
       "    </tr>\n",
       "    <tr>\n",
       "      <th>6</th>\n",
       "      <td>easy life</td>\n",
       "      <td>BEESWAX</td>\n",
       "      <td>16</td>\n",
       "    </tr>\n",
       "    <tr>\n",
       "      <th>7</th>\n",
       "      <td>Ezra Furman</td>\n",
       "      <td>Book of Our Names</td>\n",
       "      <td>24</td>\n",
       "    </tr>\n",
       "    <tr>\n",
       "      <th>8</th>\n",
       "      <td>Melody's Echo Chamber</td>\n",
       "      <td>Alma</td>\n",
       "      <td>101</td>\n",
       "    </tr>\n",
       "    <tr>\n",
       "      <th>9</th>\n",
       "      <td>Carrtoons</td>\n",
       "      <td>Homegrown</td>\n",
       "      <td>2</td>\n",
       "    </tr>\n",
       "  </tbody>\n",
       "</table>\n",
       "</div>"
      ],
      "text/plain": [
       "                    Artist(s)                 Track  Upvotes\n",
       "0                      Caamp       Apple Tree Blues       29\n",
       "1                Post Animal            Cancer Moon       11\n",
       "2                   Sick Joy   talking to the drugs        2\n",
       "3             Charlie Hickey             Dandelions        2\n",
       "4  DJ Sabrina The Teenage DJ               Call You      176\n",
       "5     Pure Reason Revolution         Dead Butterfly        5\n",
       "6                  easy life                BEESWAX       16\n",
       "7                Ezra Furman      Book of Our Names       24\n",
       "8      Melody's Echo Chamber                   Alma      101\n",
       "9                  Carrtoons              Homegrown        2"
      ]
     },
     "execution_count": 121,
     "metadata": {},
     "output_type": "execute_result"
    }
   ],
   "source": [
    "top_10"
   ]
  },
  {
   "cell_type": "code",
   "execution_count": 122,
   "metadata": {},
   "outputs": [],
   "source": [
    "top_10.to_csv('test_top10.csv', index = False)"
   ]
  },
  {
   "cell_type": "code",
   "execution_count": 103,
   "metadata": {},
   "outputs": [
    {
     "data": {
      "text/plain": [
       "count    263.000000\n",
       "mean       0.995788\n",
       "std        0.004202\n",
       "min        0.973435\n",
       "25%        0.994994\n",
       "50%        0.997293\n",
       "75%        0.998266\n",
       "max        0.999550\n",
       "Name: cosine_sim, dtype: float64"
      ]
     },
     "execution_count": 103,
     "metadata": {},
     "output_type": "execute_result"
    }
   ],
   "source": [
    "reddit_df['cosine_sim'].describe()"
   ]
  }
 ],
 "metadata": {
  "kernelspec": {
   "display_name": "Python 3",
   "language": "python",
   "name": "python3"
  },
  "language_info": {
   "codemirror_mode": {
    "name": "ipython",
    "version": 3
   },
   "file_extension": ".py",
   "mimetype": "text/x-python",
   "name": "python",
   "nbconvert_exporter": "python",
   "pygments_lexer": "ipython3",
   "version": "3.7.6"
  },
  "vscode": {
   "interpreter": {
    "hash": "2f9646f5fe092bd252f3383a2398620ba16a24c6a6b486a4f3d8bb34b7887ce7"
   }
  }
 },
 "nbformat": 4,
 "nbformat_minor": 4
}
